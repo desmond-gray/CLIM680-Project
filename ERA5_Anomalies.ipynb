{
 "cells": [
  {
   "cell_type": "code",
   "execution_count": 1,
   "id": "c992dff7-6e5d-49f6-b1ed-31d3ffd9c6ce",
   "metadata": {},
   "outputs": [],
   "source": [
    "import xarray as xr\n",
    "import numpy as np\n",
    "import cartopy.crs as ccrs\n",
    "import calendar\n",
    "import pandas as pd\n",
    "import matplotlib.pyplot as plt\n",
    "import cartopy.mpl.ticker as cticker\n",
    "import cartopy.feature as feature\n",
    "from cartopy.util import add_cyclic_point"
   ]
  },
  {
   "cell_type": "code",
   "execution_count": null,
   "id": "576519fd-8060-4ef4-bc15-3dbf7ec09f68",
   "metadata": {},
   "outputs": [],
   "source": [
    "file_era5 = '/home/dgray24/ea_moda_fc_mtpr.nc'\n",
    "ds = xr.open_dataset(file_era5)\n",
    "ds"
   ]
  },
  {
   "cell_type": "code",
   "execution_count": null,
   "id": "bab062b9-1865-4332-b369-f9ca181985f2",
   "metadata": {},
   "outputs": [],
   "source": [
    "SlicedData = ds.sel(latitude=slice(40,36),\n",
    "                longitude=slice(-84,-74))\n",
    "\n",
    "ds_era5 = SlicedData.sel(time=slice('1980-01-01','2009-12-31'))\n",
    "ds_era5"
   ]
  },
  {
   "cell_type": "code",
   "execution_count": null,
   "id": "d0be2374-d0d4-4f84-9cbb-08ad265c5821",
   "metadata": {},
   "outputs": [],
   "source": [
    "ds_era5 = ds_era5 * 86400\n",
    "ds_era5"
   ]
  },
  {
   "cell_type": "code",
   "execution_count": null,
   "id": "de51635a-a027-446f-b2ac-8eee5b1041c4",
   "metadata": {},
   "outputs": [],
   "source": [
    "da_pt = ds_era5['mtpr'].sel(latitude=39,longitude=-77,method='nearest')\n",
    "fig = plt.figure(figsize = (13,4.5))\n",
    "plt.plot(da_pt.time,da_pt)\n",
    "plt.title('Fairfax, VA Precipitation (mm/day)')\n",
    "plt.xlabel('Year')\n",
    "plt.ylabel('mm/day')\n",
    "plt.savefig('era5_anom1.png', bbox_inches='tight')"
   ]
  },
  {
   "cell_type": "code",
   "execution_count": null,
   "id": "048d1b9f-471c-4b2f-adeb-1cb678abbee2",
   "metadata": {},
   "outputs": [],
   "source": [
    "ds_climo = ds_era5.groupby('time.month').mean()"
   ]
  },
  {
   "cell_type": "code",
   "execution_count": null,
   "id": "bd99f783-7127-4c45-80f9-a32d6f35ea3b",
   "metadata": {},
   "outputs": [],
   "source": [
    "da_pt_climo = ds_climo['mtpr'].sel(latitude=39,longitude=-77,method='nearest')\n",
    "da_pt1980 = da_pt.sel(time=slice('1980-01-01','1980-12-31'))\n",
    "da_pt1990 = da_pt.sel(time=slice('1990-01-01','1990-12-31'))\n",
    "da_pt2000 = da_pt.sel(time=slice('2000-01-01','2000-12-31'))\n",
    "da_pt2009 = da_pt.sel(time=slice('2009-01-01','2009-12-31'))\n",
    "\n",
    "plt.plot(da_pt_climo,label='Climo')\n",
    "plt.plot(da_pt1980,label='1980')\n",
    "plt.plot(da_pt1990,label='1990')\n",
    "plt.plot(da_pt2000,label='2000')\n",
    "plt.plot(da_pt2009,label='2009')\n",
    "\n",
    "plt.title('Fairfax, VA Precipitation (mm/day)')\n",
    "plt.xlabel('Month')\n",
    "plt.ylabel('mm/day')\n",
    "plt.legend()"
   ]
  },
  {
   "cell_type": "code",
   "execution_count": null,
   "id": "fa87011c-2082-45e8-bd64-acca49b3f8d0",
   "metadata": {},
   "outputs": [],
   "source": [
    "ds_anoms = ds_era5.groupby('time.month') - ds_climo"
   ]
  },
  {
   "cell_type": "code",
   "execution_count": null,
   "id": "883ab5fa-5d9f-43d9-b1e8-057f29754f93",
   "metadata": {},
   "outputs": [],
   "source": [
    "da_anoms = ds_anoms['mtpr'].sel(latitude=39,longitude=-77,method='nearest')\n",
    "fig = plt.figure(figsize = (13,4.5))\n",
    "plt.plot(da_anoms['time'],da_anoms)\n",
    "plt.title('Fairfax, VA Precipitation Anomalies (mm/day)')\n",
    "plt.xlabel('Year')\n",
    "plt.ylabel('mm/day')"
   ]
  },
  {
   "cell_type": "code",
   "execution_count": null,
   "id": "e949fe9a-398e-4dea-8df2-ae70bdf772ab",
   "metadata": {},
   "outputs": [],
   "source": [
    "da_anoms = ds_anoms['mtpr'].sel(latitude=37,longitude=-82.5,method='nearest')\n",
    "fig = plt.figure(figsize = (13,4.5))\n",
    "plt.plot(da_anoms['time'],da_anoms)\n",
    "plt.title('Southwest VA Precipitation Anomalies (mm/day)')\n",
    "plt.xlabel('Year')\n",
    "plt.ylabel('mm/day')\n",
    "plt.savefig('era5_anom2.png', bbox_inches='tight')"
   ]
  },
  {
   "cell_type": "code",
   "execution_count": null,
   "id": "a0978b58-b42e-473e-896d-0d689bc42b84",
   "metadata": {},
   "outputs": [],
   "source": [
    "da_anoms = ds_anoms['mtpr'].sel(latitude=37,longitude=-76,method='nearest')\n",
    "fig = plt.figure(figsize = (13,4.5))\n",
    "plt.plot(da_anoms['time'],da_anoms)\n",
    "plt.title('Southeast VA Precipitation Anomalies (mm/day)')\n",
    "plt.xlabel('Year')\n",
    "plt.ylabel('mm/day')\n",
    "plt.savefig('era5_anom3.png', bbox_inches='tight')"
   ]
  },
  {
   "cell_type": "code",
   "execution_count": null,
   "id": "a6261302-2887-483c-b9af-70dda9dd11fd",
   "metadata": {},
   "outputs": [],
   "source": []
  }
 ],
 "metadata": {
  "kernelspec": {
   "display_name": "clim_data3",
   "language": "python",
   "name": "clim_data3"
  },
  "language_info": {
   "codemirror_mode": {
    "name": "ipython",
    "version": 3
   },
   "file_extension": ".py",
   "mimetype": "text/x-python",
   "name": "python",
   "nbconvert_exporter": "python",
   "pygments_lexer": "ipython3",
   "version": "3.10.4"
  }
 },
 "nbformat": 4,
 "nbformat_minor": 5
}
