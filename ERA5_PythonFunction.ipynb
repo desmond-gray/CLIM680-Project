{
 "cells": [
  {
   "cell_type": "code",
   "execution_count": 2,
   "id": "37c558cf-cd8e-4052-90e0-ebc2855b7167",
   "metadata": {},
   "outputs": [],
   "source": [
    "def unit_converter(precipitation_rate):\n",
    "\n",
    "    \"\"\"Return precipitation rate in mm/day from kgm^-2s^-1\"\"\"\n",
    "    \n",
    "    precip_mm=(precipitation_rate)*86400\n",
    "    return precip_mm"
   ]
  },
  {
   "cell_type": "code",
   "execution_count": 3,
   "id": "15562cc9-f84c-49d4-af1b-0b94661aafd6",
   "metadata": {},
   "outputs": [
    {
     "data": {
      "text/plain": [
       "1.5016319999999999"
      ]
     },
     "execution_count": 3,
     "metadata": {},
     "output_type": "execute_result"
    }
   ],
   "source": [
    "unit_converter(0.00001738)"
   ]
  },
  {
   "cell_type": "code",
   "execution_count": null,
   "id": "69bb910a-ad07-4b22-92b2-8edaf0abfcd2",
   "metadata": {},
   "outputs": [],
   "source": []
  }
 ],
 "metadata": {
  "kernelspec": {
   "display_name": "clim_data3",
   "language": "python",
   "name": "clim_data3"
  },
  "language_info": {
   "codemirror_mode": {
    "name": "ipython",
    "version": 3
   },
   "file_extension": ".py",
   "mimetype": "text/x-python",
   "name": "python",
   "nbconvert_exporter": "python",
   "pygments_lexer": "ipython3",
   "version": "3.10.4"
  }
 },
 "nbformat": 4,
 "nbformat_minor": 5
}
